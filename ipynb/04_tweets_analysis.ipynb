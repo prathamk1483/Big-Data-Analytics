{
  "nbformat": 4,
  "nbformat_minor": 0,
  "metadata": {
    "colab": {
      "provenance": []
    },
    "kernelspec": {
      "name": "python3",
      "display_name": "Python 3"
    },
    "language_info": {
      "name": "python"
    }
  },
  "cells": [
    {
      "cell_type": "code",
      "execution_count": 10,
      "metadata": {
        "colab": {
          "base_uri": "https://localhost:8080/"
        },
        "id": "1Fr2_2W8Fhwh",
        "outputId": "e46da7cc-0816-42d3-d5ba-34f73d7acd78"
      },
      "outputs": [
        {
          "output_type": "stream",
          "name": "stderr",
          "text": [
            "[nltk_data] Downloading package punkt to /root/nltk_data...\n",
            "[nltk_data]   Package punkt is already up-to-date!\n",
            "[nltk_data] Downloading package stopwords to /root/nltk_data...\n",
            "[nltk_data]   Package stopwords is already up-to-date!\n",
            "[nltk_data] Downloading package wordnet to /root/nltk_data...\n",
            "[nltk_data]   Package wordnet is already up-to-date!\n"
          ]
        },
        {
          "output_type": "stream",
          "name": "stdout",
          "text": [
            "              precision    recall  f1-score   support\n",
            "\n",
            "           0       0.85      0.87      0.86       473\n",
            "           1       0.85      0.83      0.84       424\n",
            "\n",
            "    accuracy                           0.85       897\n",
            "   macro avg       0.85      0.85      0.85       897\n",
            "weighted avg       0.85      0.85      0.85       897\n",
            "\n"
          ]
        }
      ],
      "source": [
        "import pandas as pd\n",
        "import numpy as np\n",
        "import nltk\n",
        "from nltk.tokenize import word_tokenize\n",
        "from nltk.corpus import stopwords\n",
        "from nltk.stem import WordNetLemmatizer\n",
        "from sklearn.feature_extraction.text import TfidfVectorizer\n",
        "from sklearn.model_selection import train_test_split\n",
        "from sklearn.linear_model import LogisticRegression\n",
        "from sklearn.metrics import classification_report\n",
        "\n",
        "# Download NLTK resources\n",
        "nltk.download('punkt')\n",
        "nltk.download('stopwords')\n",
        "nltk.download('wordnet')\n",
        "\n",
        "# Load training data\n",
        "training_data = pd.read_csv('training_data.csv')\n",
        "\n",
        "# Separate data based on labels\n",
        "positive_samples = training_data[training_data['label'] == 1]\n",
        "negative_samples = training_data[training_data['label'] == 0]\n",
        "\n",
        "# Randomly select the same number of negative samples as positive samples\n",
        "balanced_negative_samples = negative_samples.sample(n=len(positive_samples), random_state=42)\n",
        "\n",
        "# Combine positive and balanced negative samples\n",
        "balanced_training_data = pd.concat([positive_samples, balanced_negative_samples])\n",
        "\n",
        "# Shuffle the balanced training data\n",
        "balanced_training_data = balanced_training_data.sample(frac=1, random_state=42).reset_index(drop=True)\n",
        "\n",
        "# Preprocessing\n",
        "stop_words = set(stopwords.words('english'))\n",
        "lemmatizer = WordNetLemmatizer()\n",
        "\n",
        "def preprocess_text(text):\n",
        "    tokens = word_tokenize(text.lower())  # Tokenization and lowercasing\n",
        "    tokens = [token for token in tokens if token.isalpha()]  # Remove non-alphabetic tokens\n",
        "    tokens = [token for token in tokens if token not in stop_words]  # Remove stopwords\n",
        "    tokens = [lemmatizer.lemmatize(token) for token in tokens]  # Lemmatization\n",
        "    return ' '.join(tokens)\n",
        "\n",
        "balanced_training_data['clean_text'] = balanced_training_data['tweet'].apply(preprocess_text)\n",
        "\n",
        "# Feature extraction\n",
        "tfidf_vectorizer = TfidfVectorizer()\n",
        "X = tfidf_vectorizer.fit_transform(balanced_training_data['clean_text'])\n",
        "y = balanced_training_data['label']\n",
        "\n",
        "# Train-test split\n",
        "X_train, X_test, y_train, y_test = train_test_split(X, y, test_size=0.2, random_state=42)\n",
        "\n",
        "# Model training\n",
        "logistic_regression_model = LogisticRegression()\n",
        "logistic_regression_model.fit(X_train, y_train)\n",
        "\n",
        "# Model evaluation\n",
        "y_pred = logistic_regression_model.predict(X_test)\n",
        "print(classification_report(y_test, y_pred))\n"
      ]
    },
    {
      "cell_type": "code",
      "source": [],
      "metadata": {
        "id": "03QElMacKRoI"
      },
      "execution_count": 10,
      "outputs": []
    },
    {
      "cell_type": "code",
      "source": [],
      "metadata": {
        "id": "lQ7ACTkLLFud"
      },
      "execution_count": null,
      "outputs": []
    },
    {
      "cell_type": "code",
      "source": [],
      "metadata": {
        "id": "nB-jAakLLIcX"
      },
      "execution_count": null,
      "outputs": []
    },
    {
      "cell_type": "code",
      "source": [
        "# Load testing data\n",
        "testing_data = pd.read_csv('test_tweets.csv')\n",
        "\n",
        "# Preprocessing for testing data\n",
        "testing_data['clean_text'] = testing_data['tweet'].apply(preprocess_text)\n",
        "\n",
        "# Transform testing data using the same TF-IDF vectorizer\n",
        "X_test_new = tfidf_vectorizer.transform(testing_data['clean_text'])\n",
        "\n",
        "# Predict sentiment for testing data\n",
        "testing_data['sentiment'] = logistic_regression_model.predict(X_test_new)\n",
        "\n",
        "# Print the testing data with predicted sentiments\n",
        "print(testing_data)\n"
      ],
      "metadata": {
        "colab": {
          "base_uri": "https://localhost:8080/"
        },
        "id": "a65efEJnLRZp",
        "outputId": "1b4f84cc-f7c6-4339-bbbe-a85dbeb62915"
      },
      "execution_count": 11,
      "outputs": [
        {
          "output_type": "stream",
          "name": "stdout",
          "text": [
            "          id                                              tweet  \\\n",
            "0      31963  #studiolife #aislife #requires #passion #dedic...   \n",
            "1      31964   @user #white #supremacists want everyone to s...   \n",
            "2      31965  safe ways to heal your #acne!!    #altwaystohe...   \n",
            "3      31966  is the hp and the cursed child book up for res...   \n",
            "4      31967    3rd #bihday to my amazing, hilarious #nephew...   \n",
            "...      ...                                                ...   \n",
            "17192  49155  thought factory: left-right polarisation! #tru...   \n",
            "17193  49156  feeling like a mermaid ð #hairflip #neverre...   \n",
            "17194  49157  #hillary #campaigned today in #ohio((omg)) &am...   \n",
            "17195  49158  happy, at work conference: right mindset leads...   \n",
            "17196  49159  my   song \"so glad\" free download!  #shoegaze ...   \n",
            "\n",
            "                                              clean_text  sentiment  \n",
            "0      studiolife aislife requires passion dedication...          0  \n",
            "1      user white supremacist want everyone see new m...          0  \n",
            "2       safe way heal acne altwaystoheal healthy healing          0  \n",
            "3      hp cursed child book reservation already yes h...          0  \n",
            "4      bihday amazing hilarious nephew eli ahmir uncl...          0  \n",
            "...                                                  ...        ...  \n",
            "17192  thought factory polarisation trump leadership ...          1  \n",
            "17193  feeling like mermaid hairflip neverready forma...          0  \n",
            "17194  hillary campaigned today ohio omg amp used wor...          1  \n",
            "17195  happy work conference right mindset lead organ...          0  \n",
            "17196  song glad free download shoegaze newmusic newsong          0  \n",
            "\n",
            "[17197 rows x 4 columns]\n"
          ]
        }
      ]
    },
    {
      "cell_type": "code",
      "source": [],
      "metadata": {
        "id": "cg1H2RcLKWo7"
      },
      "execution_count": 11,
      "outputs": []
    },
    {
      "cell_type": "code",
      "source": [
        "num_unique_values = training_data.nunique()\n",
        "\n",
        "# Print the number of unique values\n",
        "print(\"Number of unique values in the dataset:\")\n",
        "print(num_unique_values)\n",
        "\n",
        "# Get the frequency of each unique value\n",
        "value_counts = training_data['label'].value_counts()\n",
        "\n",
        "# Print the frequency of each unique value\n",
        "print(\"\\nFrequency of each unique value:\")\n",
        "print(value_counts)"
      ],
      "metadata": {
        "colab": {
          "base_uri": "https://localhost:8080/"
        },
        "id": "4L1H_qtRKXtZ",
        "outputId": "4c7ec4ea-6f1a-47e2-bfed-7f3f2a1c70fb"
      },
      "execution_count": 9,
      "outputs": [
        {
          "output_type": "stream",
          "name": "stdout",
          "text": [
            "Number of unique values in the dataset:\n",
            "id            31962\n",
            "label             2\n",
            "tweet         29530\n",
            "clean_text    29081\n",
            "dtype: int64\n",
            "\n",
            "Frequency of each unique value:\n",
            "label\n",
            "0    29720\n",
            "1     2242\n",
            "Name: count, dtype: int64\n"
          ]
        }
      ]
    },
    {
      "cell_type": "code",
      "source": [],
      "metadata": {
        "id": "ex9s3CpGKg5A"
      },
      "execution_count": null,
      "outputs": []
    }
  ]
}