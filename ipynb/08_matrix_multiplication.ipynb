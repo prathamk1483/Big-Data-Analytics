{
  "cells": [
    {
      "cell_type": "code",
      "execution_count": null,
      "metadata": {
        "id": "iAd1T4JLQGRm",
        "outputId": "aa3ff413-c68e-477f-ddb4-85ba9e2ebe54"
      },
      "outputs": [
        {
          "name": "stdout",
          "output_type": "stream",
          "text": [
            "Enter 3x3 matrix:\n",
            "Enter 3x3 matrix:\n",
            "Resultant matrix after multiplication:\n",
            "3 3 3\n",
            "3 3 3\n",
            "3 3 3\n"
          ]
        }
      ],
      "source": [
        "def matrix_multiplication(A, B):\n",
        "    if len(A[0]) != len(B):\n",
        "        raise ValueError(\"Number of columns in A must equal number of rows in B\")\n",
        "\n",
        "    result = []\n",
        "    for i in range(len(A)):\n",
        "        row = []\n",
        "        for j in range(len(B[0])):\n",
        "            val = 0\n",
        "            for k in range(len(B)):\n",
        "                val += A[i][k] * B[k][j]\n",
        "            row.append(val)\n",
        "        result.append(row)\n",
        "\n",
        "    return result\n",
        "\n",
        "# Function to input a matrix from the user\n",
        "def input_matrix(prompt):\n",
        "    print(prompt)\n",
        "    rows = int(input(\"Enter number of rows: \"))\n",
        "    cols = int(input(\"Enter number of columns: \"))\n",
        "    matrix = []\n",
        "    for i in range(rows):\n",
        "        row = []\n",
        "        for j in range(cols):\n",
        "            row.append(float(input(f\"Enter element at position ({i+1}, {j+1}): \")))\n",
        "        matrix.append(row)\n",
        "    return matrix\n",
        "\n",
        "# Input matrices from the user\n",
        "A = input_matrix(\"Enter matrix A:\")\n",
        "B = input_matrix(\"Enter matrix B:\")\n",
        "\n",
        "# Perform matrix multiplication\n",
        "result = matrix_multiplication(A, B)\n",
        "\n",
        "# Print the result\n",
        "print(\"Result of matrix multiplication:\")\n",
        "for row in result:\n",
        "    print(row)\n"
      ]
    },
    {
      "cell_type": "code",
      "execution_count": null,
      "metadata": {
        "id": "atxnLZv-QGR2"
      },
      "outputs": [],
      "source": []
    }
  ],
  "metadata": {
    "kernelspec": {
      "display_name": "Python 3",
      "language": "python",
      "name": "python3"
    },
    "language_info": {
      "codemirror_mode": {
        "name": "ipython",
        "version": 3
      },
      "file_extension": ".py",
      "mimetype": "text/x-python",
      "name": "python",
      "nbconvert_exporter": "python",
      "pygments_lexer": "ipython3",
      "version": "3.8.0"
    },
    "colab": {
      "provenance": []
    }
  },
  "nbformat": 4,
  "nbformat_minor": 0
}